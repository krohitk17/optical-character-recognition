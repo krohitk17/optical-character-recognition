{
 "cells": [
  {
   "cell_type": "markdown",
   "metadata": {},
   "source": [
    "# Break Captchas Into Separate Characters"
   ]
  },
  {
   "cell_type": "markdown",
   "metadata": {},
   "source": [
    "Import Libraries"
   ]
  },
  {
   "cell_type": "code",
   "execution_count": null,
   "metadata": {},
   "outputs": [],
   "source": [
    "import cv2                                  # used for image processing\n",
    "import numpy as np                          # used to store image data in numpy arrays\n",
    "import os                                   # used to read files from directory\n",
    "import matplotlib.pyplot as plt             # used to display images"
   ]
  },
  {
   "cell_type": "code",
   "execution_count": null,
   "metadata": {},
   "outputs": [],
   "source": [
    "# Dataset : https://www.kaggle.com/datasets/greysky/captcha-dataset\n",
    "DIR = os.getcwd() + '/samples/'            # path to the directory containing the images\n",
    "DATASET = os.getcwd() + '/dataset/'         # path to the directory where characters will be stored\n",
    "\n",
    "RESIZED_IMAGE_WIDTH = 20                    # width of resized image\n",
    "RESIZED_IMAGE_HEIGHT = 30                   # height of resized image"
   ]
  },
  {
   "cell_type": "code",
   "execution_count": null,
   "metadata": {},
   "outputs": [],
   "source": [
    "try:\n",
    "    os.mkdir(DATASET)                       # create directory to store characters\n",
    "except:\n",
    "    pass"
   ]
  },
  {
   "cell_type": "markdown",
   "metadata": {},
   "source": [
    "Function for Image Preprocessing"
   ]
  },
  {
   "cell_type": "code",
   "execution_count": null,
   "metadata": {},
   "outputs": [],
   "source": [
    "def preprocess(img):\n",
    "    # convert to grayscale\n",
    "    imgGray = cv2.cvtColor(img, cv2.COLOR_BGR2GRAY)\n",
    "    \n",
    "    # get binary image\n",
    "    thresh = cv2.adaptiveThreshold( imgGray, 255, cv2.ADAPTIVE_THRESH_GAUSSIAN_C, cv2.THRESH_BINARY, 11, 0)\n",
    "\n",
    "    # remove noise from image\n",
    "    close = cv2.morphologyEx(thresh, cv2.MORPH_CLOSE, np.ones((3, 3), np.uint8))\n",
    "    \n",
    "    # get dilated image\n",
    "    dilate = cv2.dilate(close, np.ones((2, 2), np.uint8), iterations=1)\n",
    "\n",
    "    # invert image colors\n",
    "    image = cv2.bitwise_not(dilate)\n",
    "\n",
    "    # display image\n",
    "    plt.imshow(image, cmap='gray')\n",
    "    plt.show()\n",
    "\n",
    "    return image"
   ]
  },
  {
   "cell_type": "markdown",
   "metadata": {},
   "source": [
    "Break Captchas"
   ]
  },
  {
   "cell_type": "code",
   "execution_count": null,
   "metadata": {},
   "outputs": [],
   "source": [
    "for img in os.listdir(DIR):\n",
    "    image = cv2.imread(DIR + img)           # read captcha image\n",
    "    imgname = img.split('.')[0]             # get captcha text\n",
    "    print(imgname)\n",
    "    image = preprocess(image)               # preprocess image\n",
    "\n",
    "    IMAGE_WIDTH = image.shape[1]            # get image width\n",
    "    IMAGE_HEIGHT = image.shape[0]           # get image height\n",
    "\n",
    "    # get separate alphabets from captcha\n",
    "    for i in range(0, IMAGE_WIDTH, IMAGE_WIDTH//5):\n",
    "        # divide image into 5 parts\n",
    "        print(img[int(i/(IMAGE_WIDTH//5))])\n",
    "        # get each part\n",
    "        letter = image[5:IMAGE_HEIGHT-5, i:i+IMAGE_WIDTH//5]\n",
    "        # resize each part to 20x30\n",
    "        letter = cv2.resize(letter, (RESIZED_IMAGE_WIDTH, RESIZED_IMAGE_HEIGHT))\n",
    "        # dilate each part\n",
    "        letter = cv2.dilate(letter, np.ones((2, 2), np.uint8), iterations=1)\n",
    "\n",
    "        plt.imshow(letter, cmap='gray')\n",
    "        plt.show()\n",
    "        \n",
    "        # save each part\n",
    "        PATH = DATASET + img[int(i/(IMAGE_WIDTH//5))] + '/'\n",
    "        try:\n",
    "            os.chdir(PATH)\n",
    "        except FileNotFoundError:\n",
    "            os.mkdir(PATH)\n",
    "        finally:\n",
    "            dirlen = len(os.listdir(PATH))\n",
    "        cv2.imwrite(PATH + str(dirlen) + '.png', letter)\n",
    "    cv2.destroyAllWindows()                # close all windows\n",
    "    cv2.waitKey(1)"
   ]
  }
 ],
 "metadata": {
  "kernelspec": {
   "display_name": "Python 3.9.6 ('OCR-XFjxz9Cn')",
   "language": "python",
   "name": "python3"
  },
  "language_info": {
   "codemirror_mode": {
    "name": "ipython",
    "version": 3
   },
   "file_extension": ".py",
   "mimetype": "text/x-python",
   "name": "python",
   "nbconvert_exporter": "python",
   "pygments_lexer": "ipython3",
   "version": "3.9.6"
  },
  "orig_nbformat": 4,
  "vscode": {
   "interpreter": {
    "hash": "9c45e1f0cc01eb96fe216d96cd83d654b40d677ab160d09401a2e7ecdca93f19"
   }
  }
 },
 "nbformat": 4,
 "nbformat_minor": 2
}
