{
 "cells": [
  {
   "cell_type": "markdown",
   "metadata": {},
   "source": [
    "# Captcha Recognition With K-Nearest-Neighbours"
   ]
  },
  {
   "cell_type": "markdown",
   "metadata": {},
   "source": [
    "Import required libraries"
   ]
  },
  {
   "cell_type": "code",
   "execution_count": null,
   "metadata": {},
   "outputs": [],
   "source": [
    "import numpy as np                  # used for creating numpy arrays for model creation\n",
    "import cv2                          # used for image processing\n",
    "import os                           # used to read files and directory structure"
   ]
  },
  {
   "cell_type": "markdown",
   "metadata": {},
   "source": [
    "Define global variables"
   ]
  },
  {
   "cell_type": "code",
   "execution_count": null,
   "metadata": {},
   "outputs": [],
   "source": [
    "RESIZED_IMAGE_WIDTH = 20                    # width of resized image\n",
    "RESIZED_IMAGE_HEIGHT = 30                   # height of resized image\n",
    "\n",
    "DATASET_PATH = os.getcwd() + '/dataset/'    # Dataset path"
   ]
  },
  {
   "cell_type": "markdown",
   "metadata": {
    "tags": []
   },
   "source": [
    "## TRAIN MODEL"
   ]
  },
  {
   "cell_type": "markdown",
   "metadata": {},
   "source": [
    "### Load Dataset"
   ]
  },
  {
   "cell_type": "markdown",
   "metadata": {},
   "source": [
    "Open training characters image"
   ]
  },
  {
   "cell_type": "code",
   "execution_count": null,
   "metadata": {},
   "outputs": [],
   "source": [
    "X = np.empty((0, RESIZED_IMAGE_WIDTH * RESIZED_IMAGE_HEIGHT), \n",
    "            dtype = np.float32)         # flattened images\n",
    "y = []                                  # labels"
   ]
  },
  {
   "cell_type": "code",
   "execution_count": null,
   "metadata": {},
   "outputs": [],
   "source": [
    "for char in os.listdir(DATASET_PATH):               # for each character folder\n",
    "    print(char)                                     # print the character name\n",
    "    if (len(char) > 1):                             # if the folder name is more than 1 character, skip it\n",
    "        continue\n",
    "    for img in os.listdir(DATASET_PATH + char):     # for each image in the folder\n",
    "        if img[-3:] != 'png':                       # if the image is not a png file, skip it\n",
    "            continue\n",
    "        image = cv2.imread(DATASET_PATH + char + '/' + img, \n",
    "                            cv2.IMREAD_GRAYSCALE)   # read the image\n",
    "        flattenedImage = image.reshape((1, \n",
    "                    RESIZED_IMAGE_WIDTH * RESIZED_IMAGE_HEIGHT))    # flatten the image\n",
    "        X = np.append(X, flattenedImage, 0)         # append the image to the X array\n",
    "        y.append(ord(char))                         # append the class number to the y array"
   ]
  },
  {
   "cell_type": "code",
   "execution_count": null,
   "metadata": {},
   "outputs": [],
   "source": [
    "# convert to numpy arrays\n",
    "y = np.array(y, np.float32)"
   ]
  },
  {
   "cell_type": "code",
   "execution_count": null,
   "metadata": {},
   "outputs": [],
   "source": [
    "print(X.shape)\n",
    "print(y.shape)"
   ]
  },
  {
   "cell_type": "markdown",
   "metadata": {},
   "source": [
    "Plot Dataset"
   ]
  },
  {
   "cell_type": "code",
   "execution_count": null,
   "metadata": {},
   "outputs": [],
   "source": [
    "import seaborn as sns                   # used for plotting graphs\n",
    "import matplotlib.pyplot as plt         # used for plotting graphs"
   ]
  },
  {
   "cell_type": "code",
   "execution_count": null,
   "metadata": {},
   "outputs": [],
   "source": [
    "plot = np.unique(y, return_counts=True)                 # count the number of times each class occurs\n",
    "for i in range(len(plot[0])):\n",
    "    print(chr(int(plot[0][i])), plot[1][i])             # print the character and its count"
   ]
  },
  {
   "cell_type": "code",
   "execution_count": null,
   "metadata": {},
   "outputs": [],
   "source": [
    "plt.figure(figsize = (30, 7))                                       # set the size of the plot\n",
    "sns.barplot(x = plot[0], y = plot[1], palette='Blues_d')            # plot the graph\n",
    "plt.show()                                                          # show the graph"
   ]
  },
  {
   "cell_type": "markdown",
   "metadata": {},
   "source": [
    "### Split dataset in training and testing data"
   ]
  },
  {
   "cell_type": "markdown",
   "metadata": {},
   "source": [
    "Import Libraries"
   ]
  },
  {
   "cell_type": "code",
   "execution_count": null,
   "metadata": {},
   "outputs": [],
   "source": [
    "from sklearn.neighbors import KNeighborsClassifier       # KNN classifier\n",
    "from sklearn.model_selection import train_test_split     # used for splitting the dataset into training and testing sets\n",
    "from sklearn.metrics import classification_report        # used for evaluating the model"
   ]
  },
  {
   "cell_type": "markdown",
   "metadata": {},
   "source": [
    "Split Dataset"
   ]
  },
  {
   "cell_type": "code",
   "execution_count": null,
   "metadata": {},
   "outputs": [],
   "source": [
    "# split the dataset into training and testing sets\n",
    "X_train, X_test, y_train, y_test = train_test_split(X, y, test_size = 0.2, random_state = 42)"
   ]
  },
  {
   "cell_type": "markdown",
   "metadata": {},
   "source": [
    "Plot Training Data"
   ]
  },
  {
   "cell_type": "code",
   "execution_count": null,
   "metadata": {},
   "outputs": [],
   "source": [
    "plot_train = np.unique(y_train, return_counts=True)     # count the number of times each class occurs in training set\n",
    "for i in range(len(plot_train[0])):\n",
    "    print(chr(int(plot_train[0][i])), plot_train[1][i]) # print the character and its count"
   ]
  },
  {
   "cell_type": "code",
   "execution_count": null,
   "metadata": {},
   "outputs": [],
   "source": [
    "plt.figure(figsize = (30, 7))                                   # set the size of the plot\n",
    "sns.barplot(x = plot_train[0], \n",
    "            y = plot_train[1], palette='Blues_d')               # plot the graph\n",
    "plt.show()                                                      # show the graph"
   ]
  },
  {
   "cell_type": "markdown",
   "metadata": {},
   "source": [
    "Plot Testing Data"
   ]
  },
  {
   "cell_type": "code",
   "execution_count": null,
   "metadata": {},
   "outputs": [],
   "source": [
    "plot_test = np.unique(y_test, return_counts=True)       # count the number of times each class occurs in testing set\n",
    "for i in range(len(plot_test[0])):  \n",
    "    print(chr(int(plot_test[0][i])), plot_test[1][i])   # print the character and its count"
   ]
  },
  {
   "cell_type": "code",
   "execution_count": null,
   "metadata": {},
   "outputs": [],
   "source": [
    "plt.figure(figsize = (30, 7))                                       # set the size of the plot\n",
    "sns.barplot(x = plot_test[0], y = plot_test[1], palette='Blues_d')  # plot the graph\n",
    "plt.show()                                                          # show the graph"
   ]
  },
  {
   "cell_type": "markdown",
   "metadata": {},
   "source": [
    "### Create K-Nearest-Neighbours Model"
   ]
  },
  {
   "cell_type": "markdown",
   "metadata": {},
   "source": [
    "Create KNN object"
   ]
  },
  {
   "cell_type": "code",
   "execution_count": null,
   "metadata": {},
   "outputs": [],
   "source": [
    "kNearest = KNeighborsClassifier(n_neighbors = 3)    # create the KNN classifier\n",
    "kNearest.fit(X_train, y_train)                      # train the model"
   ]
  },
  {
   "cell_type": "markdown",
   "metadata": {},
   "source": [
    "Print Model Statistics"
   ]
  },
  {
   "cell_type": "code",
   "execution_count": null,
   "metadata": {},
   "outputs": [],
   "source": [
    "print(kNearest.score(X_test, y_test))                           # print accuracy\n",
    "print(classification_report(y_test, kNearest.predict(X_test)))  # print classification report"
   ]
  },
  {
   "cell_type": "markdown",
   "metadata": {
    "tags": []
   },
   "source": [
    "## TEST MODEL"
   ]
  },
  {
   "cell_type": "code",
   "execution_count": null,
   "metadata": {
    "tags": []
   },
   "outputs": [],
   "source": [
    "TEST_IMAGE = 'test_images/' + '2LKGD.png'       # Test image path"
   ]
  },
  {
   "cell_type": "markdown",
   "metadata": {},
   "source": [
    "Open testing image"
   ]
  },
  {
   "cell_type": "code",
   "execution_count": null,
   "metadata": {},
   "outputs": [],
   "source": [
    "img = cv2.imread(TEST_IMAGE)                # read in testing image\n",
    "if img is None:                             # if image was not read successfully, exit program\n",
    "    print(\"error: image not read from file \\n\\n\")\n",
    "    exit(0)"
   ]
  },
  {
   "cell_type": "markdown",
   "metadata": {},
   "source": [
    "Preprocess Image"
   ]
  },
  {
   "cell_type": "code",
   "execution_count": null,
   "metadata": {},
   "outputs": [],
   "source": [
    "imgGray = cv2.cvtColor(img, cv2.COLOR_BGR2GRAY)                             # convert to grayscale\n",
    "# cv2.imshow('gray', gray)\n",
    "# cv2.waitKey(0)\n",
    "\n",
    "thresh = cv2.adaptiveThreshold( \n",
    "                imgGray, 255, cv2.ADAPTIVE_THRESH_GAUSSIAN_C, \n",
    "                cv2.THRESH_BINARY, 11, 0)                                   # get binary image\n",
    "# cv2.imshow('thresh', thresh)\n",
    "# cv2.waitKey(0)\n",
    "\n",
    "close = cv2.morphologyEx(thresh, cv2.MORPH_CLOSE,\n",
    "                         np.ones((3, 3), np.uint8))                         # remove noise from image\n",
    "# cv2.imshow('close', close)\n",
    "# cv2.waitKey(0)\n",
    "\n",
    "dilate = cv2.dilate(close, np.ones((2, 2), np.uint8),\n",
    "                    iterations=1)                                           # get dilated image\n",
    "# cv2.imshow('dilate', dilate)\n",
    "# cv2.waitKey(0)\n",
    "\n",
    "image = cv2.bitwise_not(dilate)                                             # invert image colors\n",
    "# cv2.imshow('image', image)\n",
    "# cv2.waitKey(0)\n"
   ]
  },
  {
   "cell_type": "markdown",
   "metadata": {},
   "source": [
    "Predict Captcha"
   ]
  },
  {
   "cell_type": "code",
   "execution_count": null,
   "metadata": {},
   "outputs": [],
   "source": [
    "for i in range(0, 180, 36):\n",
    "    # get character from captcha\n",
    "    letter = image[5:40, i:i+36]\n",
    "    # resize image to 20x30\n",
    "    letter = cv2.resize(letter, (RESIZED_IMAGE_WIDTH, RESIZED_IMAGE_HEIGHT))\n",
    "    # dilate image\n",
    "    letter = cv2.dilate(letter, np.ones((2, 2), np.uint8), iterations=1)\n",
    "    # flatten image to 1d numpy array\n",
    "    letter = letter.reshape((1, RESIZED_IMAGE_WIDTH * RESIZED_IMAGE_HEIGHT))\n",
    "    letter = np.float32(letter)\n",
    "    # get nearest neighbor\n",
    "    res = kNearest.predict(letter)\n",
    "    # print predicted character\n",
    "    print(chr(int(res[0])), end = '')\n",
    "\n",
    "    # show image\n",
    "    cv2.rectangle(img, (i, 5), (i+36, 40), (0, 255, 0), 1)\n",
    "    cv2.imshow('image', img)\n",
    "    cv2.waitKey(0)\n",
    "    cv2.destroyAllWindows()\n",
    "    \n",
    "cv2.destroyAllWindows()"
   ]
  }
 ],
 "metadata": {
  "kernelspec": {
   "display_name": "Python 3.9.6 ('OCR-XFjxz9Cn')",
   "language": "python",
   "name": "python3"
  },
  "language_info": {
   "codemirror_mode": {
    "name": "ipython",
    "version": 3
   },
   "file_extension": ".py",
   "mimetype": "text/x-python",
   "name": "python",
   "nbconvert_exporter": "python",
   "pygments_lexer": "ipython3",
   "version": "3.9.6"
  },
  "orig_nbformat": 4,
  "vscode": {
   "interpreter": {
    "hash": "9c45e1f0cc01eb96fe216d96cd83d654b40d677ab160d09401a2e7ecdca93f19"
   }
  }
 },
 "nbformat": 4,
 "nbformat_minor": 2
}
